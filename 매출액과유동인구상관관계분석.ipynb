{
 "cells": [
  {
   "cell_type": "code",
   "execution_count": 2,
   "metadata": {},
   "outputs": [],
   "source": [
    "import numpy as np\n",
    "import pandas as pd"
   ]
  },
  {
   "cell_type": "code",
   "execution_count": 83,
   "metadata": {},
   "outputs": [],
   "source": [
    "money_daehak = pd.read_csv('C:/Users/효짜이/Desktop/crawling/datafile/money.csv',encoding='euc-kr')"
   ]
  },
  {
   "cell_type": "code",
   "execution_count": 84,
   "metadata": {},
   "outputs": [
    {
     "data": {
      "text/html": [
       "<div>\n",
       "<style scoped>\n",
       "    .dataframe tbody tr th:only-of-type {\n",
       "        vertical-align: middle;\n",
       "    }\n",
       "\n",
       "    .dataframe tbody tr th {\n",
       "        vertical-align: top;\n",
       "    }\n",
       "\n",
       "    .dataframe thead th {\n",
       "        text-align: right;\n",
       "    }\n",
       "</style>\n",
       "<table border=\"1\" class=\"dataframe\">\n",
       "  <thead>\n",
       "    <tr style=\"text-align: right;\">\n",
       "      <th></th>\n",
       "      <th>구분</th>\n",
       "      <th>2016.09</th>\n",
       "      <th>2016.12</th>\n",
       "      <th>2017.03</th>\n",
       "      <th>2017.06</th>\n",
       "      <th>2017.09</th>\n",
       "      <th>2017.12</th>\n",
       "      <th>2018.03</th>\n",
       "      <th>2018.06</th>\n",
       "      <th>2018.09</th>\n",
       "      <th>2018.12</th>\n",
       "      <th>2019.03</th>\n",
       "      <th>2019.06</th>\n",
       "    </tr>\n",
       "  </thead>\n",
       "  <tbody>\n",
       "    <tr>\n",
       "      <td>0</td>\n",
       "      <td>홍대입구</td>\n",
       "      <td>69782996</td>\n",
       "      <td>69180784</td>\n",
       "      <td>68509419</td>\n",
       "      <td>63836369</td>\n",
       "      <td>61393135</td>\n",
       "      <td>163138558</td>\n",
       "      <td>65607896</td>\n",
       "      <td>65031174</td>\n",
       "      <td>67039503</td>\n",
       "      <td>147171255</td>\n",
       "      <td>62279000</td>\n",
       "      <td>52873756</td>\n",
       "    </tr>\n",
       "    <tr>\n",
       "      <td>1</td>\n",
       "      <td>건대입구</td>\n",
       "      <td>83039101</td>\n",
       "      <td>83885149</td>\n",
       "      <td>84110950</td>\n",
       "      <td>85797045</td>\n",
       "      <td>80569368</td>\n",
       "      <td>93044764</td>\n",
       "      <td>97426767</td>\n",
       "      <td>101424072</td>\n",
       "      <td>106885184</td>\n",
       "      <td>159161221</td>\n",
       "      <td>69579948</td>\n",
       "      <td>66496953</td>\n",
       "    </tr>\n",
       "    <tr>\n",
       "      <td>2</td>\n",
       "      <td>신촌역</td>\n",
       "      <td>49597766</td>\n",
       "      <td>58299685</td>\n",
       "      <td>55798612</td>\n",
       "      <td>54011046</td>\n",
       "      <td>57158621</td>\n",
       "      <td>56300783</td>\n",
       "      <td>56587047</td>\n",
       "      <td>66357748</td>\n",
       "      <td>67521480</td>\n",
       "      <td>90713051</td>\n",
       "      <td>46936349</td>\n",
       "      <td>41786355</td>\n",
       "    </tr>\n",
       "    <tr>\n",
       "      <td>3</td>\n",
       "      <td>서경대</td>\n",
       "      <td>20139160</td>\n",
       "      <td>18850448</td>\n",
       "      <td>18045593</td>\n",
       "      <td>21341746</td>\n",
       "      <td>20434819</td>\n",
       "      <td>18036809</td>\n",
       "      <td>18324308</td>\n",
       "      <td>23283582</td>\n",
       "      <td>22816288</td>\n",
       "      <td>31169864</td>\n",
       "      <td>22687772</td>\n",
       "      <td>22305613</td>\n",
       "    </tr>\n",
       "  </tbody>\n",
       "</table>\n",
       "</div>"
      ],
      "text/plain": [
       "     구분   2016.09   2016.12   2017.03   2017.06   2017.09    2017.12  \\\n",
       "0  홍대입구  69782996  69180784  68509419  63836369  61393135  163138558   \n",
       "1  건대입구  83039101  83885149  84110950  85797045  80569368   93044764   \n",
       "2   신촌역  49597766  58299685  55798612  54011046  57158621   56300783   \n",
       "3   서경대  20139160  18850448  18045593  21341746  20434819   18036809   \n",
       "\n",
       "    2018.03    2018.06    2018.09    2018.12   2019.03   2019.06  \n",
       "0  65607896   65031174   67039503  147171255  62279000  52873756  \n",
       "1  97426767  101424072  106885184  159161221  69579948  66496953  \n",
       "2  56587047   66357748   67521480   90713051  46936349  41786355  \n",
       "3  18324308   23283582   22816288   31169864  22687772  22305613  "
      ]
     },
     "execution_count": 84,
     "metadata": {},
     "output_type": "execute_result"
    }
   ],
   "source": [
    "money_daehak.head()"
   ]
  },
  {
   "cell_type": "code",
   "execution_count": 85,
   "metadata": {},
   "outputs": [
    {
     "data": {
      "text/plain": [
       "Index(['구분', '2016.09', '2016.12', '2017.03', '2017.06', '2017.09', '2017.12',\n",
       "       '2018.03', '2018.06', '2018.09', '2018.12', '2019.03', '2019.06'],\n",
       "      dtype='object')"
      ]
     },
     "execution_count": 85,
     "metadata": {},
     "output_type": "execute_result"
    }
   ],
   "source": [
    "money_daehak.columns"
   ]
  },
  {
   "cell_type": "code",
   "execution_count": 14,
   "metadata": {},
   "outputs": [],
   "source": [
    "walkpeople_daehak = pd.read_csv('C:/Users/효짜이/Desktop/crawling/datafile/walkpeople.csv',encoding='euc-kr')"
   ]
  },
  {
   "cell_type": "code",
   "execution_count": 16,
   "metadata": {},
   "outputs": [],
   "source": [
    "data_result = pd.merge(money_daehak, walkpeople_daehak, on='구분')"
   ]
  },
  {
   "cell_type": "code",
   "execution_count": 17,
   "metadata": {},
   "outputs": [
    {
     "data": {
      "text/html": [
       "<div>\n",
       "<style scoped>\n",
       "    .dataframe tbody tr th:only-of-type {\n",
       "        vertical-align: middle;\n",
       "    }\n",
       "\n",
       "    .dataframe tbody tr th {\n",
       "        vertical-align: top;\n",
       "    }\n",
       "\n",
       "    .dataframe thead th {\n",
       "        text-align: right;\n",
       "    }\n",
       "</style>\n",
       "<table border=\"1\" class=\"dataframe\">\n",
       "  <thead>\n",
       "    <tr style=\"text-align: right;\">\n",
       "      <th></th>\n",
       "      <th>구분</th>\n",
       "      <th>2016.09_x</th>\n",
       "      <th>2016.12_x</th>\n",
       "      <th>2017.03_x</th>\n",
       "      <th>2017.06_x</th>\n",
       "      <th>2017.09_x</th>\n",
       "      <th>2017.12_x</th>\n",
       "      <th>2018.03_x</th>\n",
       "      <th>2018.06_x</th>\n",
       "      <th>2018.09_x</th>\n",
       "      <th>...</th>\n",
       "      <th>2017.03_y</th>\n",
       "      <th>2017.06_y</th>\n",
       "      <th>2017.09_y</th>\n",
       "      <th>2017.12_y</th>\n",
       "      <th>2018.03_y</th>\n",
       "      <th>2018.06_y</th>\n",
       "      <th>2018.09_y</th>\n",
       "      <th>2018.12_y</th>\n",
       "      <th>2019.03_y</th>\n",
       "      <th>2019.06_y</th>\n",
       "    </tr>\n",
       "  </thead>\n",
       "  <tbody>\n",
       "    <tr>\n",
       "      <td>0</td>\n",
       "      <td>홍대입구</td>\n",
       "      <td>69782996</td>\n",
       "      <td>69180784</td>\n",
       "      <td>68509419</td>\n",
       "      <td>63836369</td>\n",
       "      <td>61393135</td>\n",
       "      <td>163138558</td>\n",
       "      <td>65607896</td>\n",
       "      <td>65031174</td>\n",
       "      <td>67039503</td>\n",
       "      <td>...</td>\n",
       "      <td>123210</td>\n",
       "      <td>116359</td>\n",
       "      <td>1296321</td>\n",
       "      <td>129584</td>\n",
       "      <td>133142</td>\n",
       "      <td>136471</td>\n",
       "      <td>142336</td>\n",
       "      <td>158732</td>\n",
       "      <td>124288</td>\n",
       "      <td>147701</td>\n",
       "    </tr>\n",
       "    <tr>\n",
       "      <td>1</td>\n",
       "      <td>건대입구</td>\n",
       "      <td>83039101</td>\n",
       "      <td>83885149</td>\n",
       "      <td>84110950</td>\n",
       "      <td>85797045</td>\n",
       "      <td>80569368</td>\n",
       "      <td>93044764</td>\n",
       "      <td>97426767</td>\n",
       "      <td>101424072</td>\n",
       "      <td>106885184</td>\n",
       "      <td>...</td>\n",
       "      <td>95462</td>\n",
       "      <td>91615</td>\n",
       "      <td>104245</td>\n",
       "      <td>112598</td>\n",
       "      <td>109182</td>\n",
       "      <td>124488</td>\n",
       "      <td>122780</td>\n",
       "      <td>111087</td>\n",
       "      <td>118402</td>\n",
       "      <td>140859</td>\n",
       "    </tr>\n",
       "    <tr>\n",
       "      <td>2</td>\n",
       "      <td>신촌역</td>\n",
       "      <td>49597766</td>\n",
       "      <td>58299685</td>\n",
       "      <td>55798612</td>\n",
       "      <td>54011046</td>\n",
       "      <td>57158621</td>\n",
       "      <td>56300783</td>\n",
       "      <td>56587047</td>\n",
       "      <td>66357748</td>\n",
       "      <td>67521480</td>\n",
       "      <td>...</td>\n",
       "      <td>220402</td>\n",
       "      <td>213667</td>\n",
       "      <td>231342</td>\n",
       "      <td>213075</td>\n",
       "      <td>223000</td>\n",
       "      <td>223763</td>\n",
       "      <td>227381</td>\n",
       "      <td>206312</td>\n",
       "      <td>190250</td>\n",
       "      <td>220768</td>\n",
       "    </tr>\n",
       "    <tr>\n",
       "      <td>3</td>\n",
       "      <td>서경대</td>\n",
       "      <td>20139160</td>\n",
       "      <td>18850448</td>\n",
       "      <td>18045593</td>\n",
       "      <td>21341746</td>\n",
       "      <td>20434819</td>\n",
       "      <td>18036809</td>\n",
       "      <td>18324308</td>\n",
       "      <td>23283582</td>\n",
       "      <td>22816288</td>\n",
       "      <td>...</td>\n",
       "      <td>13563</td>\n",
       "      <td>14166</td>\n",
       "      <td>17782</td>\n",
       "      <td>17361</td>\n",
       "      <td>17691</td>\n",
       "      <td>17938</td>\n",
       "      <td>20666</td>\n",
       "      <td>18248</td>\n",
       "      <td>18257</td>\n",
       "      <td>23124</td>\n",
       "    </tr>\n",
       "  </tbody>\n",
       "</table>\n",
       "<p>4 rows × 25 columns</p>\n",
       "</div>"
      ],
      "text/plain": [
       "     구분  2016.09_x  2016.12_x  2017.03_x  2017.06_x  2017.09_x  2017.12_x  \\\n",
       "0  홍대입구   69782996   69180784   68509419   63836369   61393135  163138558   \n",
       "1  건대입구   83039101   83885149   84110950   85797045   80569368   93044764   \n",
       "2   신촌역   49597766   58299685   55798612   54011046   57158621   56300783   \n",
       "3   서경대   20139160   18850448   18045593   21341746   20434819   18036809   \n",
       "\n",
       "   2018.03_x  2018.06_x  2018.09_x  ...  2017.03_y  2017.06_y  2017.09_y  \\\n",
       "0   65607896   65031174   67039503  ...     123210     116359    1296321   \n",
       "1   97426767  101424072  106885184  ...      95462      91615     104245   \n",
       "2   56587047   66357748   67521480  ...     220402     213667     231342   \n",
       "3   18324308   23283582   22816288  ...      13563      14166      17782   \n",
       "\n",
       "   2017.12_y  2018.03_y  2018.06_y  2018.09_y  2018.12_y  2019.03_y  2019.06_y  \n",
       "0     129584     133142     136471     142336     158732     124288     147701  \n",
       "1     112598     109182     124488     122780     111087     118402     140859  \n",
       "2     213075     223000     223763     227381     206312     190250     220768  \n",
       "3      17361      17691      17938      20666      18248      18257      23124  \n",
       "\n",
       "[4 rows x 25 columns]"
      ]
     },
     "execution_count": 17,
     "metadata": {},
     "output_type": "execute_result"
    }
   ],
   "source": [
    "data_result.head()"
   ]
  },
  {
   "cell_type": "code",
   "execution_count": 22,
   "metadata": {},
   "outputs": [
    {
     "data": {
      "text/plain": [
       "array([[1.        , 0.63281673],\n",
       "       [0.63281673, 1.        ]])"
      ]
     },
     "execution_count": 22,
     "metadata": {},
     "output_type": "execute_result"
    }
   ],
   "source": [
    "np.corrcoef(data_result['2016.09_x'],data_result['2016.09_y'])\n"
   ]
  },
  {
   "cell_type": "code",
   "execution_count": 36,
   "metadata": {},
   "outputs": [
    {
     "data": {
      "text/plain": [
       "array([[1.        , 0.52347804],\n",
       "       [0.52347804, 1.        ]])"
      ]
     },
     "execution_count": 36,
     "metadata": {},
     "output_type": "execute_result"
    }
   ],
   "source": [
    "np.corrcoef(data_result['2016.12_x'],data_result['2016.12_y'])"
   ]
  },
  {
   "cell_type": "code",
   "execution_count": 35,
   "metadata": {},
   "outputs": [
    {
     "data": {
      "text/plain": [
       "array([[1.        , 0.46924259],\n",
       "       [0.46924259, 1.        ]])"
      ]
     },
     "execution_count": 35,
     "metadata": {},
     "output_type": "execute_result"
    }
   ],
   "source": [
    "np.corrcoef(data_result['2017.03_x'],data_result['2017.03_y'])"
   ]
  },
  {
   "cell_type": "code",
   "execution_count": 33,
   "metadata": {},
   "outputs": [
    {
     "data": {
      "text/plain": [
       "array([[1.        , 0.46924259],\n",
       "       [0.46924259, 1.        ]])"
      ]
     },
     "execution_count": 33,
     "metadata": {},
     "output_type": "execute_result"
    }
   ],
   "source": [
    "np.corrcoef(data_result['2017.03_x'],data_result['2017.03_y'])"
   ]
  },
  {
   "cell_type": "code",
   "execution_count": 34,
   "metadata": {},
   "outputs": [
    {
     "data": {
      "text/plain": [
       "array([[1.        , 0.46924259],\n",
       "       [0.46924259, 1.        ]])"
      ]
     },
     "execution_count": 34,
     "metadata": {},
     "output_type": "execute_result"
    }
   ],
   "source": [
    "np.corrcoef(data_result['2017.03_x'],data_result['2017.03_y'])"
   ]
  },
  {
   "cell_type": "code",
   "execution_count": 37,
   "metadata": {},
   "outputs": [
    {
     "data": {
      "text/plain": [
       "array([[1.        , 0.39589119],\n",
       "       [0.39589119, 1.        ]])"
      ]
     },
     "execution_count": 37,
     "metadata": {},
     "output_type": "execute_result"
    }
   ],
   "source": [
    "np.corrcoef(data_result['2017.06_x'],data_result['2017.06_y'])"
   ]
  },
  {
   "cell_type": "code",
   "execution_count": 38,
   "metadata": {},
   "outputs": [
    {
     "data": {
      "text/plain": [
       "array([[1.        , 0.39589119],\n",
       "       [0.39589119, 1.        ]])"
      ]
     },
     "execution_count": 38,
     "metadata": {},
     "output_type": "execute_result"
    }
   ],
   "source": [
    "np.corrcoef(data_result['2017.06_x'],data_result['2017.06_y'])"
   ]
  },
  {
   "cell_type": "code",
   "execution_count": 39,
   "metadata": {},
   "outputs": [
    {
     "data": {
      "text/plain": [
       "array([[1.       , 0.2454112],\n",
       "       [0.2454112, 1.       ]])"
      ]
     },
     "execution_count": 39,
     "metadata": {},
     "output_type": "execute_result"
    }
   ],
   "source": [
    "np.corrcoef(data_result['2017.09_x'],data_result['2017.09_y'])"
   ]
  },
  {
   "cell_type": "code",
   "execution_count": 40,
   "metadata": {},
   "outputs": [
    {
     "data": {
      "text/plain": [
       "array([[1.        , 0.32751038],\n",
       "       [0.32751038, 1.        ]])"
      ]
     },
     "execution_count": 40,
     "metadata": {},
     "output_type": "execute_result"
    }
   ],
   "source": [
    "np.corrcoef(data_result['2017.12_x'],data_result['2017.12_y'])"
   ]
  },
  {
   "cell_type": "code",
   "execution_count": 41,
   "metadata": {},
   "outputs": [
    {
     "data": {
      "text/plain": [
       "array([[1.        , 0.43468401],\n",
       "       [0.43468401, 1.        ]])"
      ]
     },
     "execution_count": 41,
     "metadata": {},
     "output_type": "execute_result"
    }
   ],
   "source": [
    "np.corrcoef(data_result['2018.03_x'],data_result['2018.03_y'])"
   ]
  },
  {
   "cell_type": "code",
   "execution_count": 42,
   "metadata": {},
   "outputs": [
    {
     "data": {
      "text/plain": [
       "array([[1.        , 0.56679573],\n",
       "       [0.56679573, 1.        ]])"
      ]
     },
     "execution_count": 42,
     "metadata": {},
     "output_type": "execute_result"
    }
   ],
   "source": [
    "np.corrcoef(data_result['2018.06_x'],data_result['2018.06_y'])"
   ]
  },
  {
   "cell_type": "code",
   "execution_count": 43,
   "metadata": {},
   "outputs": [
    {
     "data": {
      "text/plain": [
       "array([[1.        , 0.52430024],\n",
       "       [0.52430024, 1.        ]])"
      ]
     },
     "execution_count": 43,
     "metadata": {},
     "output_type": "execute_result"
    }
   ],
   "source": [
    "np.corrcoef(data_result['2018.09_x'],data_result['2018.09_y'])"
   ]
  },
  {
   "cell_type": "code",
   "execution_count": 59,
   "metadata": {},
   "outputs": [
    {
     "data": {
      "text/plain": [
       "array([[1.        , 0.52318181],\n",
       "       [0.52318181, 1.        ]])"
      ]
     },
     "execution_count": 59,
     "metadata": {},
     "output_type": "execute_result"
    }
   ],
   "source": [
    "np.corrcoef(data_result['2018.12_x'],data_result['2018.12_y'])"
   ]
  },
  {
   "cell_type": "code",
   "execution_count": 60,
   "metadata": {},
   "outputs": [
    {
     "name": "stdout",
     "output_type": "stream",
     "text": [
      "총상관계수: 0.45\n",
      "0.45이상이므로 뚜렷한 양적 상관관계를 가진다.\n"
     ]
    }
   ],
   "source": [
    "print('총상관계수: 0.45') #상관계수를 다 더하고 개수로 나눠줌 \n",
    "print('0.45이상이므로 뚜렷한 양적 상관관계를 가진다.')"
   ]
  },
  {
   "cell_type": "code",
   "execution_count": 69,
   "metadata": {},
   "outputs": [],
   "source": [
    "import platform\n",
    "import matplotlib.pyplot as plt"
   ]
  },
  {
   "cell_type": "code",
   "execution_count": 70,
   "metadata": {},
   "outputs": [],
   "source": [
    "%matplotlib inline"
   ]
  },
  {
   "cell_type": "code",
   "execution_count": 71,
   "metadata": {},
   "outputs": [],
   "source": [
    "from matplotlib import font_manager, rc\n",
    "plt.rcParams['axes.unicode_minus'] = False"
   ]
  },
  {
   "cell_type": "code",
   "execution_count": 78,
   "metadata": {
    "collapsed": true
   },
   "outputs": [
    {
     "data": {
      "text/plain": [
       "<matplotlib.axes._subplots.AxesSubplot at 0x612d290>"
      ]
     },
     "execution_count": 78,
     "metadata": {},
     "output_type": "execute_result"
    },
    {
     "data": {
      "image/png": "[encoded data removed]",
      "text/plain": [
       "<Figure size 720x720 with 1 Axes>"
      ]
     },
     "metadata": {
      "needs_background": "light"
     },
     "output_type": "display_data"
    }
   ],
   "source": [
    "data_result['2018.12_x'].plot(kind='barh', grid=True, figsize = (10,10))"
   ]
  },
  {
   "cell_type": "code",
   "execution_count": 82,
   "metadata": {
    "collapsed": true
   },
   "outputs": [
    {
     "data": {
      "image/png": "[encoded data removed]",
      "text/plain": [
       "<Figure size 432x432 with 1 Axes>"
      ]
     },
     "metadata": {
      "needs_background": "light"
     },
     "output_type": "display_data"
    }
   ],
   "source": [
    "plt.figure(figsize=(6,6))\n",
    "plt.scatter(data_result['2018.12_x'],data_result['2018.12_y'],s=50)\n",
    "plt.xlabel('매출액')\n",
    "plt.ylabel('유동인구')\n",
    "plt.grid()\n",
    "plt.show()"
   ]
  },
  {
   "cell_type": "code",
   "execution_count": null,
   "metadata": {},
   "outputs": [],
   "source": []
  }
 ],
 "metadata": {
  "kernelspec": {
   "display_name": "Python 3",
   "language": "python",
   "name": "python3"
  },
  "language_info": {
   "codemirror_mode": {
    "name": "ipython",
    "version": 3
   },
   "file_extension": ".py",
   "mimetype": "text/x-python",
   "name": "python",
   "nbconvert_exporter": "python",
   "pygments_lexer": "ipython3",
   "version": "3.7.4"
  }
 },
 "nbformat": 4,
 "nbformat_minor": 2
}
