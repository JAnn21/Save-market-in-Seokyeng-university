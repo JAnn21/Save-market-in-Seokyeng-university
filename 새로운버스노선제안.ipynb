{
 "cells": [
  {
   "cell_type": "code",
   "execution_count": 10,
   "metadata": {},
   "outputs": [],
   "source": [
    "import folium"
   ]
  },
  {
   "cell_type": "code",
   "execution_count": 34,
   "metadata": {},
   "outputs": [],
   "source": [
    "map_osm = folium.Map(location=[37.609982, 127.014504], zoom_start=15)\n",
    "folium.Marker([37.615188, 127.008842], popup='버스정류장start1', icon=folium.Icon(color='red', icon='info-sign')).add_to(map_osm)\n",
    "folium.Marker([37.615795, 127.011119], popup='버스정류장1-1', icon=folium.Icon(color='red', icon='info-sign')).add_to(map_osm)\n",
    "folium.Marker([37.613635, 127.010313], popup='버스정류장1-2', icon=folium.Icon(color='red', icon='info-sign')).add_to(map_osm)\n",
    "folium.Marker([37.613635, 127.010313], popup='버스정류장1-3', icon=folium.Icon(color='red', icon='info-sign')).add_to(map_osm)\n",
    "folium.Marker([37.611044, 127.008703], popup='버스정류장1-4', icon=folium.Icon(color='red', icon='info-sign')).add_to(map_osm)\n",
    "folium.Marker([37.610155, 127.015023], popup='버스정류장start2', icon=folium.Icon(color='blue', icon='info-sign')).add_to(map_osm)\n",
    "folium.Marker([37.611176, 127.022053], popup='버스정류장2-1', icon=folium.Icon(color='blue', icon='info-sign')).add_to(map_osm)\n",
    "folium.Marker([37.607853, 127.023306], popup='버스정류장2-2', icon=folium.Icon(color='blue', icon='info-sign')).add_to(map_osm)\n",
    "folium.Marker([37.604091, 127.025235], popup='버스정류장2-3', icon=folium.Icon(color='blue', icon='info-sign')).add_to(map_osm)\n",
    "\n",
    "map_osm.save('C:/Users/효짜이/Desktop/crawling/크롤링 및 손크롤링 모든자료/datafile/map_busstop.html')"
   ]
  },
  {
   "cell_type": "code",
   "execution_count": 16,
   "metadata": {},
   "outputs": [],
   "source": []
  },
  {
   "cell_type": "code",
   "execution_count": 14,
   "metadata": {},
   "outputs": [],
   "source": []
  },
  {
   "cell_type": "code",
   "execution_count": null,
   "metadata": {},
   "outputs": [],
   "source": []
  }
 ],
 "metadata": {
  "kernelspec": {
   "display_name": "Python 3",
   "language": "python",
   "name": "python3"
  },
  "language_info": {
   "codemirror_mode": {
    "name": "ipython",
    "version": 3
   },
   "file_extension": ".py",
   "mimetype": "text/x-python",
   "name": "python",
   "nbconvert_exporter": "python",
   "pygments_lexer": "ipython3",
   "version": "3.7.4"
  }
 },
 "nbformat": 4,
 "nbformat_minor": 2
}
