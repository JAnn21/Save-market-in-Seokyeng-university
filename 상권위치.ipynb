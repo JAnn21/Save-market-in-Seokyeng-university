{
 "cells": [
  {
   "cell_type": "code",
   "execution_count": 11,
   "metadata": {},
   "outputs": [],
   "source": [
    "import folium\n",
    "map_osm = folium.Map(location=[37.560906, 126.991366], zoom_start=12)\n",
    "folium.Marker([37.612373, 127.009729\n",
    "], popup='서경대', icon=folium.Icon(color='red', icon='info-sign')).add_to(map_osm)\n",
    "folium.Marker([37.557310, 126.924515], popup='홍대입구', icon=folium.Icon(color='red', icon='info-sign')).add_to(map_osm)\n",
    "folium.Marker([37.498056, 127.028227], popup='강남역', icon=folium.Icon(color='red', icon='info-sign')).add_to(map_osm)\n",
    "folium.Marker([37.555992, 126.937163], popup='신촌역', icon=folium.Icon(color='red', icon='info-sign')).add_to(map_osm)\n",
    "folium.Marker([37.541018, 127.069918], popup='건대입구', icon=folium.Icon(color='red', icon='info-sign')).add_to(map_osm)\n",
    "folium.Marker([37.535014, 126.993398\n",
    "], popup='이태원', icon=folium.Icon(color='red', icon='info-sign')).add_to(map_osm)\n",
    "map_osm.save('C:/Users/효짜이/Desktop/crawling/크롤링 및 손크롤링 모든자료/datafile/map_district.html')"
   ]
  },
  {
   "cell_type": "code",
   "execution_count": null,
   "metadata": {},
   "outputs": [],
   "source": []
  },
  {
   "cell_type": "code",
   "execution_count": null,
   "metadata": {},
   "outputs": [],
   "source": []
  }
 ],
 "metadata": {
  "kernelspec": {
   "display_name": "Python 3",
   "language": "python",
   "name": "python3"
  },
  "language_info": {
   "codemirror_mode": {
    "name": "ipython",
    "version": 3
   },
   "file_extension": ".py",
   "mimetype": "text/x-python",
   "name": "python",
   "nbconvert_exporter": "python",
   "pygments_lexer": "ipython3",
   "version": "3.7.4"
  }
 },
 "nbformat": 4,
 "nbformat_minor": 2
}
