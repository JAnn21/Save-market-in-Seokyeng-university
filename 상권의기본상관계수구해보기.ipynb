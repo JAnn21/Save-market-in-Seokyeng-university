{
 "cells": [
  {
   "cell_type": "code",
   "execution_count": 4,
   "metadata": {},
   "outputs": [],
   "source": [
    "import pandas as pd"
   ]
  },
  {
   "cell_type": "code",
   "execution_count": 7,
   "metadata": {},
   "outputs": [],
   "source": [
    "each = pd.read_csv('C:/Users/효짜이/Desktop/crawling/datafile/eachsanggun.csv')"
   ]
  },
  {
   "cell_type": "code",
   "execution_count": 5,
   "metadata": {},
   "outputs": [
    {
     "name": "stdout",
     "output_type": "stream",
     "text": [
      "   Unnamed: 0  hondae    gundae   sinchon  seokyeng  leetaewon     ganam\n",
      "0       jumpo     338     117.0     202.0         5       64.0      60.0\n",
      "1   3yearlive      50      43.2      37.8        50       38.9      17.6\n",
      "2  livepeople      82     209.0     106.0       300       88.0      83.0\n",
      "3   salaryman     292     163.0     157.0        23      147.0     906.0\n",
      "4  walkpeople  126339  294023.0  241357.0     19981    93434.0  115166.0\n"
     ]
    }
   ],
   "source": [
    "print(each.head())"
   ]
  },
  {
   "cell_type": "code",
   "execution_count": 6,
   "metadata": {},
   "outputs": [
    {
     "name": "stdout",
     "output_type": "stream",
     "text": [
      "             hondae    gundae   sinchon  seokyeng  leetaewon     ganam\n",
      "hondae     1.000000  0.339183  0.806251  0.999892   0.810309  0.996759\n",
      "gundae     0.339183  1.000000  0.829972  0.325612   0.826108  0.413741\n",
      "sinchon    0.806251  0.829972  1.000000  0.797652   0.999976  0.851214\n",
      "seokyeng   0.999892  0.325612  0.797652  1.000000   0.801790  0.995493\n",
      "leetaewon  0.810309  0.826108  0.999976  0.801790   1.000000  0.854812\n",
      "ganam      0.996759  0.413741  0.851214  0.995493   0.854812  1.000000\n"
     ]
    }
   ],
   "source": [
    "re=each.corr(method='pearson')\n",
    "print(re)"
   ]
  },
  {
   "cell_type": "code",
   "execution_count": null,
   "metadata": {},
   "outputs": [],
   "source": []
  }
 ],
 "metadata": {
  "kernelspec": {
   "display_name": "Python 3",
   "language": "python",
   "name": "python3"
  },
  "language_info": {
   "codemirror_mode": {
    "name": "ipython",
    "version": 3
   },
   "file_extension": ".py",
   "mimetype": "text/x-python",
   "name": "python",
   "nbconvert_exporter": "python",
   "pygments_lexer": "ipython3",
   "version": "3.7.4"
  }
 },
 "nbformat": 4,
 "nbformat_minor": 2
}
