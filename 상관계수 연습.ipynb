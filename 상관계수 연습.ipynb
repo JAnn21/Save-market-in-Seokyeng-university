{
 "cells": [
  {
   "cell_type": "code",
   "execution_count": 3,
   "metadata": {},
   "outputs": [
    {
     "data": {
      "image/png": "[encoded data removed]",
      "text/plain": [
       "<Figure size 432x288 with 1 Axes>"
      ]
     },
     "metadata": {
      "needs_background": "light"
     },
     "output_type": "display_data"
    }
   ],
   "source": [
    ">>> import matplotlib.pyplot as plt\n",
    ">>> from matplotlib import font_manager, rc\n",
    ">>> import matplotlib\n",
    ">>> font_location = \"c:/Windows/fonts/malgun.ttf\"\n",
    ">>> font_name = font_manager.FontProperties(fname=font_location).get_name()\n",
    ">>> matplotlib.rc('font', family=font_name)\n",
    ">>> height = [100, 120, 130, 140, 150, 160, 170, 180, 190]\n",
    ">>> foot_size = [200, 205, 210, 220, 230, 250, 270, 280, 285]\n",
    ">>> plt.scatter(height, foot_size)\n",
    ">>> plt.xlabel('키(Cm)')\n",
    ">>> plt.ylabel('발크기(mm)')\n",
    ">>> plt.show()"
   ]
  },
  {
   "cell_type": "code",
   "execution_count": null,
   "metadata": {},
   "outputs": [],
   "source": []
  }
 ],
 "metadata": {
  "kernelspec": {
   "display_name": "Python 3",
   "language": "python",
   "name": "python3"
  },
  "language_info": {
   "codemirror_mode": {
    "name": "ipython",
    "version": 3
   },
   "file_extension": ".py",
   "mimetype": "text/x-python",
   "name": "python",
   "nbconvert_exporter": "python",
   "pygments_lexer": "ipython3",
   "version": "3.7.4"
  }
 },
 "nbformat": 4,
 "nbformat_minor": 2
}
